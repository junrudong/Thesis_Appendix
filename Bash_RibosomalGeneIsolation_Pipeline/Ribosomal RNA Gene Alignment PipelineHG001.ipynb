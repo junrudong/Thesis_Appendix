{
 "cells": [
  {
   "cell_type": "markdown",
   "id": "e65191b4-2cf5-422b-bd9c-d2707b2b87f1",
   "metadata": {},
   "source": [
    "# Ribosomal RNA Gene Alignment Pipeline"
   ]
  },
  {
   "cell_type": "markdown",
   "id": "6be27bae-3d26-4c5d-bc88-e3266fa917ee",
   "metadata": {},
   "source": [
    "The aim of this pipeline is to extracted repeating 18s and 28s ribosomal RNA genes seqs of an individual from different datasets and align the genes. \\\n",
    "Step1: Download bam alignments of approximate loci that contains ribosomalRNA genes of one seqrun of a individual \\\n",
    "Step2: "
   ]
  },
  {
   "cell_type": "code",
   "execution_count": 1,
   "id": "9d018d85-f15b-43a5-b00d-64eab832425f",
   "metadata": {},
   "outputs": [
    {
     "name": "stdout",
     "output_type": "stream",
     "text": [
      "\u001b[?2004h\u001b[?2004l\u001b[?2004l\u001b[?2004l\u001b[?2004l\u001b[?2004l\u001b[?2004l"
     ]
    },
    {
     "ename": "",
     "evalue": "1",
     "output_type": "error",
     "traceback": []
    }
   ],
   "source": [
    "##Working directory for testrun, \n",
    "##for future runs, directory can be organized by individuals\n",
    "\n",
    "cd /data/judong/Bash_RibosomalRnaGeneAlignment/HG001\n",
    "mkdir log\n",
    "mkdir 18S\n",
    "mkdir 28S"
   ]
  },
  {
   "cell_type": "markdown",
   "id": "56a39a08-59f0-42c4-bfd3-027ebb92734c",
   "metadata": {
    "tags": []
   },
   "source": [
    "### Reference document: \n",
    "1. Gene areas: Estimated (rough) locuses of ribosomal genes in grch38 \\\n",
    "Path: /data/judong/RibosomalRnaGeneAlignment/Reference/geneareas\n",
    "Note: the document can be confirmed by redo the Blast"
   ]
  },
  {
   "cell_type": "code",
   "execution_count": 4,
   "id": "c70b1e3a-19ca-4074-bb0e-e3040d4beb51",
   "metadata": {},
   "outputs": [
    {
     "name": "stdout",
     "output_type": "stream",
     "text": [
      "chr2:132000000-133000000\n",
      "\n",
      "chr14:15500000-16500000\n",
      "\n",
      "chr16:33500000-34500000\n",
      "\n",
      "chr19:23500000-24500000\n",
      "\n",
      "chr20:29000000-31000000\n",
      "\n",
      "chr21:8000000-9500000\n",
      "\n",
      "chr22:11000000-12000000\n",
      "\n",
      "chrY:10000000-11000000\n",
      "\n",
      "chrUn_GL000220v1\n",
      "\n",
      "chr22_KI270733v1_random\n",
      "\n",
      "chrUn_KI270442v1\n",
      "\u001b[?2004h"
     ]
    },
    {
     "ename": "",
     "evalue": "1",
     "output_type": "error",
     "traceback": []
    }
   ],
   "source": [
    "### check the content of estimated ribosomal gene areas in different chromosomes\n",
    "cat /data/judong/Bash_RibosomalRnaGeneAlignment/Reference/geneareas"
   ]
  },
  {
   "cell_type": "markdown",
   "id": "44f569d5-e3f2-4ccc-b04b-509c0018b26f",
   "metadata": {},
   "source": [
    "2. Sequencing data files:\n",
    "Path1: RibosomalRnaGeneAlignment/Reference/seqDatabase.txt\n",
    "Note: reference sequences of rRNA gene and PacBio CCS sequencing Data from NCBI, ENA etc as included\n",
    "Path2:RibosomalRnaGeneAlignment/Reference/sequencing-data\n",
    "Note:NCBI links of Giab sequencing NCBI samples"
   ]
  },
  {
   "cell_type": "code",
   "execution_count": 5,
   "id": "94994d07-a90d-405e-8508-91da495a2111",
   "metadata": {
    "scrolled": true,
    "tags": []
   },
   "outputs": [
    {
     "name": "stdout",
     "output_type": "stream",
     "text": [
      "=======================Ribosomal RNA gene fasta===============================================\n",
      "\n",
      "NCBI Human 18S ribosomal RNA\n",
      "https://www.ncbi.nlm.nih.gov/nuccore/X03205.1?report=fasta\n",
      "NCBI Human 28S ribosomal RNA\n",
      "https://www.ncbi.nlm.nih.gov/nuccore/M11167.1?report=fasta\n",
      "\n",
      "\n",
      "=====================Complete T2T reconstruction of a human genome CHM13=========================== \n",
      "https://github.com/marbl/CHM13\n",
      "\n",
      "\n",
      "CHM13 T2T v2.0\n",
      "FTP directory:\n",
      "https://ftp.ncbi.nlm.nih.gov/genomes/all/GCA/009/914/755/GCA_009914755.4_CHM13_T2T_v2.0/\n",
      "Fasta file url:\n",
      "ftp://ftp.ncbi.nlm.nih.gov/genomes/all/GCA/009/914/755/GCA_009914755.4_CHM13_T2T_v2.0/GCA_009914755.4_CHM13_T2T_v2.0_genomic.fna.gz\n",
      "\n",
      "CHM13 T2T v1.1\n",
      "FTP directory:\n",
      "ftp://ftp.ncbi.nlm.nih.gov/genomes/all/GCA/009/914/755/GCA_009914755.3_CHM13_T2T_v1.1/\n",
      "Fasta file url:\n",
      "ftp://ftp.ncbi.nlm.nih.gov/genomes/all/GCA/009/914/755/GCA_009914755.3_CHM13_T2T_v1.1/GCA_009914755.3_CHM13_T2T_v1.1_genomic.fna.gz\n",
      "\n",
      "\n",
      "=========================================ENA PacBio sequencing samples============================\n",
      "\n",
      "\"\"homo sapiens\" \"CCS reads from PacBio SMRT\" Search result:\n",
      "\n",
      "https://www.ebi.ac.uk/ena/browser/text-search?query=%22homo%20sapiens%22%20%22CCS%20reads%20from%20PacBio%20SMRT%22\n",
      "\n",
      "CCS reads from PacBio SMRT sequencing of Homo sapiens: Mexican GM19734\n",
      "CCS reads from PacBio SMRT sequencing of Homo sapiens: Sri Lankan Tamil HG03736\n",
      "CCS reads from PacBio SMRT sequencing of Homo sapiens: Dai Chinese HG00766\n",
      "CCS reads from PacBio SMRT sequencing of Homo sapiens: Luhya GM19030\n",
      "\n",
      "Data structure:\n",
      "https://ena-docs.readthedocs.io/en/latest/retrieval/file-download/ena-ftp-structure.html\n",
      "\n",
      "Problem:\n",
      "Connect to directory through the above link as GUEST\n",
      "\n",
      "Alignment folders\n",
      "and rRNA folder no data of interest can be found\n",
      "\n",
      "=============================================HPRCYear 1 Sequencing===========================\n",
      "*The Human Pangenome Reference Consortium produced sequencing data for assembly of 30 samples. Multiple data types including PacBio HiFi, Nanopore, Hi-C, and Bionano are avaiable. Strand-seq is available for 7 samples. Data created and hosted by the HPRC is open and available for download in our S3 & GCP buckets. Select data is also uploaded to international nucleotide sequencing databases (SRA/ENA/DDBJ) under the HPRC Genome Sequencing BioProject (PRJNA701308).\n",
      "\n",
      "For information about data reuse and publicating with HPRC data please see the HPRC's Data Use Protocol. Note that the HPRC Year 1 data is pending publication, currently scheduled for mid-2021. If you would like to publish using this please contact the HPRC Coordinating Center at hprcadmin@gowustl.onmicrosoft.com.*\n",
      "\n",
      "Year 1 Sequencing Data samples:\n",
      "\n",
      "PacBio HiFi Data From UW and WashU\n",
      "\n",
      "PacBio HiFi sequencing was performed on the Sequel2 instrument using v2 chemistry. Samples were sequenced across 3-5 flowcells in order to generate 35-fold coverage or greater. The average coverage for the year1 samples is >40X with a median insert size of 20kb. The following file types are available:\n",
      "\n",
      "{flowcell_id}.ccs.bam - consensus called unaligned bam file\n",
      "{flowcell_id}.ccs.bam.md5 - md5 hash of ccs.bam file\n",
      "Consensus sequences were generated with v4.0.0 of the CCS algorithm. Subreads files are available in the backups area of the S3 bucket.\n",
      "\n",
      "HiFi reads aligned to GRCh38 and CHM13 with Winnowmap are included in samples' working tree under working/HPRC/{sample_id}/analysis/aligned_reads/hifi. More information can be found in the README files for the algnments to GRCh38 and CHM13.\n",
      "\n",
      "\n",
      "Intro page:\n",
      "https://github.com/human-pangenomics/HPP_Year1_Data_Freeze_v1.0\n",
      "\n",
      "Pac Bio alignments:\n",
      "https://s3-us-west-2.amazonaws.com/human-pangenomics/index.html?prefix=working/HPRC_PLUS/\n",
      "D/L: \n",
      "To download \n",
      "\n",
      "\n",
      "=======================================Giab sequencing NCBI=================================================\n",
      "==== data directory ====\n",
      "\n",
      "The data directory contains a subdirectory per individual or trio (NA12878, Ashkenazim, ChineseTrio) from GIAB project. Each individual or trio directory contains series of subdirectories for different data sets that were generated from different platforms. An \"analysis\" subdirectory was created for each trio and NA12878 containing analysis results from different analysis group.\n",
      "\n",
      "\n",
      "\n",
      "\t\t\t          |----platform_specific_sequence_data*\n",
      "\t   |----NA12878/  --------|----analysis/\n",
      "\t   |\n",
      "\t   |\n",
      "\t   |\t\t\t  |----HG002_NA24385_son/platform_specific_sequence_data*\n",
      "    data/  |----AshkenazimTrio/ --|----HG003_NA24149_father/platform_specific_sequence_data*\n",
      "\t   |\t\t\t  |----HG004_NA24143_mother/platform_specific_sequence_data*\n",
      "\t   |\t\t\t  |----analysis/\n",
      " \t   |\n",
      " \t   |\n",
      "\t   |\t\t \t  |----HG005_NA24631_son/platform_specific_sequence_data*\n",
      "\t   |----ChineseTrio/ -----|----HG006_NA24694-huCA017E_father/platform_specific_sequence_data*\n",
      "\t\t\t\t  |----HG007_NA24695-hu38168_mother/platform_specific_sequence_data*\n",
      "\t\t\t\t  |----analysis\n",
      "\n",
      "  \n",
      "Example:\n",
      "\n",
      "https://ftp-trace.ncbi.nlm.nih.gov/ReferenceSamples/giab/data/AshkenazimTrio/HG002_NA24385_son/\n",
      "\n",
      "PacBio_CCS_10kb/                            2020-02-21 14:48    -   \n",
      "PacBio_CCS_15kb/                            2020-05-14 14:46    -   \n",
      "PacBio_CCS_15kb_20kb_chemistry2/            2020-02-16 21:23    -   \n",
      "PacBio_MtSinai_NIST/                        2022-03-07 18:05    -   \n",
      "PacBio_SequelII_CCS_11kb/ \n",
      "\n",
      "Download example: \n",
      "\n",
      "Use ftp to download\n",
      "\n",
      "ftp://ftp-trace.ncbi.nlm.nih.gov/ReferenceSamples/giab/data/AshkenazimTrio/HG002_NA24385_son/PacBio_CCS_15kb_20kb_chemistry2/GRCh38/HG002.SequelII.merged_15kb_20kb.GRCh38.duplomap.bam\n",
      "\n",
      "\n",
      "\n",
      "=====================================T2T Diversity Panel============================================\n",
      "\n",
      "\n",
      "This dataset includes sequencing data, assemblies, and analyses for the offspring of ten parent-offspring trios.\n",
      "\n",
      "Data will be added and updated as technologies improve or new data uses are encountered. If you have issues/questions open an issue on this github page.\n",
      "\n",
      "Intro: https://github.com/human-pangenomics/hpgp-data\n",
      "\n",
      "Hifi:\n",
      "\n",
      "https://s3-us-west-2.amazonaws.com/human-pangenomics/index.html?prefix=submissions/8fa7bde9-be6f-4160-97a9-b639a8962c66--WUSTL_OTHER_HiFi/\n",
      "\n",
      "PacBio CLR(continues long reading) and other sequencing:\n",
      "\n",
      "https://s3-us-west-2.amazonaws.com/human-pangenomics/index.html?prefix=NHGRI_UCSC_panel/\u001b[?2004h"
     ]
    },
    {
     "ename": "",
     "evalue": "1",
     "output_type": "error",
     "traceback": []
    }
   ],
   "source": [
    "### to check the content of the file:\n",
    "cat /data/judong/Bash_RibosomalRnaGeneAlignment/Reference/seqDatabase.txt"
   ]
  },
  {
   "cell_type": "markdown",
   "id": "9e5d49d2-e190-4e8f-a1b8-e8afe2719a98",
   "metadata": {
    "tags": []
   },
   "source": [
    "# Download sequences"
   ]
  },
  {
   "cell_type": "markdown",
   "id": "58ba012c-5032-4e90-a762-10d9dd9bb9ed",
   "metadata": {},
   "source": [
    "Grch38 Bam file \\\n",
    "• sequencing-data file contains links to sequencing runs from different individuals. \\\n",
    "  They are aligned against grch38 reference genome \\\n",
    "◦ The sequencing runs are renamed as seqrun1, seqrun2 .. and so on \\\n",
    "• The script download-aligmap.sh downloads the bam file of wanted sequencing run \\\n",
    "◦ Only those regions of a bam file were downloaded that contained ribosomal genes \\\n",
    "▪ Saved to a file reference/grch38-geneareas \\\n",
    "◦ Bam files are saved to files hg00*/grch38-aligmap/seqrun*.(region).bam \\\n",
    "◦ The script also saves the read depths to seqrun*.region.depth"
   ]
  },
  {
   "cell_type": "markdown",
   "id": "31d684df-2b89-4e00-8acb-03b73883ecbe",
   "metadata": {},
   "source": [
    "### Argument 1: bam urls from seqDatabase.txt\n",
    "### Argument 2: sequencing_runs name: seqrun1 etc\n",
    "### Test URL: PacBio_CCS_15kb_20kb_chemistry2\n",
    "\n",
    "url :  ftp://ftp-trace.ncbi.nlm.nih.gov/ReferenceSamples/giab/data/AshkenazimTrio/HG002_NA24385_son/PacBio_CCS_15kb_20kb_chemistry2/GRCh38/HG002.SequelII.merged_15kb_20kb.GRCh38.duplomap.bam\" \n",
    "\n",
    "ftp://ftp-trace.ncbi.nlm.nih.gov/ReferenceSamples/giab/data/AshkenazimTrio/HG003_NA24149_father/PacBio_CCS_15kb_20kb_chemistry2/GRCh38/HG003.SequelII.merged_15kb_20kb.pbmm2.GRCh38.haplotag.10x.bam\n",
    "\n",
    "ftp://ftp-trace.ncbi.nlm.nih.gov/ReferenceSamples/giab/data/AshkenazimTrio/HG001_NA24143_mother/PacBio_CCS_15kb_20kb_chemistry2/GRCh38/HG001.SequelII.merged_15kb_20kb.pbmm2.GRCh38.haplotag.10x.bam\n",
    "\n",
    "ftp://ftp-trace.ncbi.nlm.nih.gov/ReferenceSamples/giab/data/NA12878/PacBio_CCS_15kb_20kb_chemistry2/GRCh38/GIAB_5mC_CpG/HG001.GRCh38.deepvariant.haplotagged.bam\n",
    "more details in reference/seqDatabase.txt\n",
    "run : \"seqrun1\"`\n"
   ]
  },
  {
   "cell_type": "code",
   "execution_count": 2,
   "id": "60dfd5b4-66b7-4ae6-a490-af351cf82ae0",
   "metadata": {},
   "outputs": [
    {
     "name": "stdout",
     "output_type": "stream",
     "text": [
      "chr22_KI270733v1_randoml\n",
      "chrUn_KI270442v1\n",
      "chrUn_GL000220v1\n",
      "chr22:11000000-12000000\n",
      "chr19:23500000-24500000\n",
      "chrY:10000000-11000000\n",
      "chr21:8000000-9500000\n",
      "chr16:33500000-34500000\n",
      "chr20:29000000-31000000\n",
      "chr14:15500000-16500000\n",
      "chr2:132000000-133000000\n",
      "\u001b[?2004h"
     ]
    },
    {
     "ename": "",
     "evalue": "1",
     "output_type": "error",
     "traceback": []
    }
   ],
   "source": [
    "### Genome position of Chromosomes has shown as control\n",
    "### Bash example: bash /data/judong/ribosome-rna/download-aligmap.sh Argument1 Argument2\n",
    "bash /data/judong/ribosome-rna/download-aligmap.sh ftp://ftp-trace.ncbi.nlm.nih.gov/ReferenceSamples/giab/data/NA12878/PacBio_CCS_15kb_20kb_chemistry2/GRCh38/GIAB_5mC_CpG/HG001.GRCh38.deepvariant.haplotagged.bam seqrun1"
   ]
  },
  {
   "cell_type": "markdown",
   "id": "77f9d83a-9ad7-4db9-b966-8756f29f4cb8",
   "metadata": {},
   "source": [
    "# Remap-ribosome-reads-chm13\n",
    "### LogPath:RobosomalRnaGeneAlignment/Testrun/Log"
   ]
  },
  {
   "cell_type": "markdown",
   "id": "802ad668-4c61-4218-9b2f-cb8b7d02e8ec",
   "metadata": {},
   "source": [
    "• Locations of the ribosomal genes are imprecise in Grch38 genome \\\n",
    "◦ Only a few ribosomal genes and they are mislocated. \\\n",
    "→ Realign them to chm13 reference genome which assembled from Pacbio CCS long read sequences \\\n",
    "• Script remap-ribosome-reads-chm13.sh deassemables ribosomal genes containing reads from grch38 bam files and realigns them against chm13 reference genome \\\n",
    "◦ Reads were saved to hg00*/grch38-aligmap/reads-seqrun*.fq. \\\n",
    "◦ Reads were realigned using minimap2 software with parameters found from NCBI: https://ftp-trace.ncbi.nlm.nih.gov/ReferenceSamples/giab/data/NA12878/PacBio_SequelII_CCS_11kb/ README.txt\n",
    "   \n",
    "◦ The scrip creates a new bam in which only ribosomal genes containing reads are aligned against chm13 ▪ Saved to hg00*/chm13-aligmap/seqrun*.bam\n",
    "• The script writes also read depths for each chromosomes: hg00*/chm13-aligmap/seqrun*.chr*.depth"
   ]
  },
  {
   "cell_type": "markdown",
   "id": "25fe1ecf-1706-4152-8c1b-670a0bd25419",
   "metadata": {},
   "source": [
    "### Reference Genome:\n",
    "CHM13 T2T v1.1 is copied from local file \\\n",
    "Another option would be download from \n",
    "ftp://ftp.ncbi.nlm.nih.gov/genomes/all/GCA/009/914/755/GCA_009914755.3_CHM13_T2T_v1.1/GCA_009914755.3_CHM13_T2T_v1.1_genomic.fna.gz for different versions\n",
    "\n",
    "### Arguments:\n",
    "#### Update: add new viriable Reference as the the second viriable of remap codes\n",
    "Argument 1: run (example: seqrun1)\n",
    "Argument 2: reference (example: chm13.draft_v1.1.fasta more details in reference/seqDatabase.txt )"
   ]
  },
  {
   "cell_type": "code",
   "execution_count": 1,
   "id": "c38af201-d750-4db0-a13b-fd20cdcad3f6",
   "metadata": {},
   "outputs": [
    {
     "name": "stdout",
     "output_type": "stream",
     "text": [
      "\u001b[?2004h\u001b[?2004l"
     ]
    },
    {
     "ename": "",
     "evalue": "1",
     "output_type": "error",
     "traceback": []
    }
   ],
   "source": [
    "### working directory Test_run\n",
    "cd /data/judong/Bash_RibosomalRnaGeneAlignment/HG001"
   ]
  },
  {
   "cell_type": "code",
   "execution_count": 2,
   "id": "e5709bc5-10e0-4276-98c4-ce1e6eaae17d",
   "metadata": {},
   "outputs": [
    {
     "name": "stdout",
     "output_type": "stream",
     "text": [
      "chrM004l\n",
      "chr21\n",
      "chr22\n",
      "chr20\n",
      "chr19\n",
      "chr17\n",
      "chr18\n",
      "chr16\n",
      "chr14\n",
      "chr15\n",
      "chr13\n",
      "chr10\n",
      "chr12\n",
      "chr9\n",
      "chr11\n",
      "chr8\n",
      "chr7\n",
      "chrX\n",
      "chr6\n",
      "chr5\n",
      "chr3\n",
      "chr4\n",
      "chr2\n",
      "chr1\n",
      "\u001b[?2004h"
     ]
    },
    {
     "ename": "",
     "evalue": "1",
     "output_type": "error",
     "traceback": []
    }
   ],
   "source": [
    "bash /data/judong/Bash_RibosomalRnaGeneAlignment/Codes/remapToLongReadSeqRef.sh seqrun1 /data/judong/Bash_RibosomalRnaGeneAlignment/Reference/chm13.draft_v1.1.fasta 2> log/remapLog.txt"
   ]
  },
  {
   "cell_type": "markdown",
   "id": "a8416284-a226-493b-8a3c-39aac0062c52",
   "metadata": {
    "jp-MarkdownHeadingCollapsed": true,
    "tags": []
   },
   "source": [
    "# !!!Change Kernel to gnuplot then run the following comand to check the depth!!!"
   ]
  },
  {
   "cell_type": "markdown",
   "id": "38dd5cc6-3c81-405d-b718-2a01ea6b9d30",
   "metadata": {},
   "source": [
    "#### Note1: In this part of the pipline the depth of each mapped alingment can be compared with chm13 18s and 28s reference by editing the sample chromosome name and the reference ones \n",
    "#### Note2: The chromosome should contain rRNA genes "
   ]
  },
  {
   "cell_type": "markdown",
   "id": "a1660d8f-ceea-4b16-9f9a-461fe5e40a91",
   "metadata": {},
   "source": [
    "### Test with Chromosome 22"
   ]
  },
  {
   "cell_type": "code",
   "execution_count": 1,
   "id": "3ac5d738-a027-4406-bc97-1ea1b1e3a3a2",
   "metadata": {},
   "outputs": [
    {
     "data": {
      "image/png": "[encoded data removed]",
      "text/plain": [
       "<IPython.core.display.Image object>"
      ]
     },
     "metadata": {},
     "output_type": "display_data"
    },
    {
     "data": {
      "text/plain": [
       "set term png size 800,600 \n",
       "\n",
       "Terminal type is now 'png'\n",
       "Options are 'nocrop enhanced size 800,600 font \"arial,12.0\" '\n"
      ]
     },
     "execution_count": 1,
     "metadata": {},
     "output_type": "execute_result"
    }
   ],
   "source": [
    "### graph size\n",
    "set term png size 800,600 \n",
    "### margin ratio\n",
    "set bmargin at screen 0.25\n",
    "set tmargin at screen 0.99\n",
    "### axis range\n",
    "set yrange [0:400]\n",
    "set xrange [4.65e6:5.9e6]\n",
    "### plot commande\n",
    "plot '/data/judong/Bash_RibosomalRnaGeneAlignment/HG001/seqrun1.chr22.depth' using 2:3 with filledcurves y=0,'/data/judong/Bash_RibosomalRnaGeneAlignment/Reference/depthRef/chm13-geneplot-chr22-18s' using 1:2 with filledcurves y=0 fillstyle transparent solid 0.7, '/data/judong/Bash_RibosomalRnaGeneAlignment/Reference/depthRef/chm13-geneplot-chr22-28s' using 1:2 with filledcurves y=0 fillstyle transparent solid 0.7 \n"
   ]
  },
  {
   "cell_type": "markdown",
   "id": "17f2de20-6e00-46e3-8d27-3628489b9388",
   "metadata": {},
   "source": [
    "### Test with chromosome 13"
   ]
  },
  {
   "cell_type": "code",
   "execution_count": 2,
   "id": "bffa1ccf-d252-405b-8a48-ff1150633a34",
   "metadata": {},
   "outputs": [
    {
     "data": {
      "image/png": "[encoded data removed]",
      "text/plain": [
       "<IPython.core.display.Image object>"
      ]
     },
     "metadata": {},
     "output_type": "display_data"
    },
    {
     "data": {
      "text/plain": [
       "set term png size 800,600 \n",
       "\n",
       "Terminal type is now 'png'\n",
       "Options are 'nocrop enhanced size 800,600 font \"arial,12.0\" '\n"
      ]
     },
     "execution_count": 2,
     "metadata": {},
     "output_type": "execute_result"
    }
   ],
   "source": [
    "set term png size 800,600 \n",
    "set bmargin at screen 0.25\n",
    "set tmargin at screen 0.99\n",
    "set yrange [0:600]\n",
    "set xrange [5.55e6:10.5e6]\n",
    "plot '/data/judong/Bash_RibosomalRnaGeneAlignment/HG001/seqrun1.chr13.depth' using 2:3 with filledcurves y=0,'/data/judong/Bash_RibosomalRnaGeneAlignment/Reference/depthRef/chm13-geneplot-chr13-18s' using 1:2 with filledcurves y=0 fillstyle transparent solid 0.7, '/data/judong/Bash_RibosomalRnaGeneAlignment/Reference/depthRef/chm13-geneplot-chr13-28s' using 1:2 with filledcurves y=0 fillstyle transparent solid 0.7 \n"
   ]
  },
  {
   "cell_type": "markdown",
   "id": "5aeb7a95-7172-4c6a-95b4-7f1a17812b75",
   "metadata": {
    "tags": []
   },
   "source": [
    "## !!!Back to Bash Kernel!!!"
   ]
  },
  {
   "cell_type": "markdown",
   "id": "1cfc19fb-6e68-42da-a7db-4e4d27ab2565",
   "metadata": {
    "tags": []
   },
   "source": [
    "# Disassembling reads from a chm13 bam file \n",
    "### Logpath:RibosomalRnaGeneAlignment/Test_Run/Log\n",
    "• The script extract-ribosome-reads-softclipped.sh disassembles ribosomal genes containing reads from the chm13 bamfile and cleaves softclipped reagions from each end \\\n",
    "◦ Reads are saved to files based on a gene: \\\n",
    "▪ \\<individual>/18S/reads-seqrun*.fq \\\n",
    "▪ \\<individual>/28S/read-seqrun*fq \\\n",
    "▪ If a read contains both genes, it is saved to both files \\\n",
    "▪ If a gene is on the minus strand, a reverse complement of a gene is saved"
   ]
  },
  {
   "cell_type": "code",
   "execution_count": 3,
   "id": "89c4aa1d-66b0-46cc-bf01-b21351d826a2",
   "metadata": {},
   "outputs": [
    {
     "name": "stdout",
     "output_type": "stream",
     "text": [
      "\u001b[?2004h\u001b[?2004l"
     ]
    },
    {
     "ename": "",
     "evalue": "1",
     "output_type": "error",
     "traceback": []
    }
   ],
   "source": [
    "### working directory test_Run\n",
    "cd /data/judong/Bash_RibosomalRnaGeneAlignment/HG001"
   ]
  },
  {
   "cell_type": "code",
   "execution_count": 4,
   "id": "c61b0bcb-a3dd-40eb-8648-0fb7e3264685",
   "metadata": {},
   "outputs": [
    {
     "name": "stdout",
     "output_type": "stream",
     "text": [
      "\u001b[?2004h\u001b[?2004l\u001b[?2004l"
     ]
    },
    {
     "ename": "",
     "evalue": "1",
     "output_type": "error",
     "traceback": []
    }
   ],
   "source": [
    "### Argument Seqrun1\n",
    "### stdout and stderror to disassembelLog.txt\n",
    "bash /data/judong/Bash_RibosomalRnaGeneAlignment/Codes/extract-ribosome-reads-softclipped.sh seqrun1 2> log/disassembelLog.txt\n"
   ]
  },
  {
   "cell_type": "markdown",
   "id": "9d069821-deea-439b-a4df-50b4ccdabece",
   "metadata": {},
   "source": [
    "# Gene isolation from reads\n",
    "### Logpath:RibosomalRnaGeneAlignment/Test_Run/Log\n",
    "• The script geneIsolation.sh isolates the ribosomal genes from reads \\\n",
    "◦ Reads are aligned to a ribosomal gene sequence \\\n",
    "◦ → min-query-overlap=0.1  \\\n",
    "◦ Reads are cut where the gene starts and stops \\\n",
    "◦ Isolated genes were checked by aligning them against the gene sequence with more strict threshold"
   ]
  },
  {
   "cell_type": "markdown",
   "id": "77c249bd-b114-429e-8622-9636e685d2fe",
   "metadata": {},
   "source": [
    "## NOTE: \n",
    "1. In this step 18S and 28S ribosomal genes Should be analyzed seperately\n",
    "2. Pagan is not installed in terminal. So zipped file was downloaded to home folder with:wget http://wasabiapp.org/download/pagan/pagan2.linux64.20190829.tgz  then the pagan folder including bin/pagan2 was copied to 18s and 28s folder\n"
   ]
  },
  {
   "cell_type": "markdown",
   "id": "e2e6d51a-3eeb-43bb-aaa7-178a3d2a7a41",
   "metadata": {},
   "source": [
    "#### Arguments:\n",
    "1. reference: 18S or 28S ribosomal gene seq\n",
    "path1:/data/judong/RibosomalRnaGeneAlignment/Reference/18S_ncbi.fas\n",
    "path2:/data/judong/RibosomalRnaGeneAlignment/Reference/28S_ncbi.fas\n",
    "2. seqrun: seqrun*"
   ]
  },
  {
   "cell_type": "code",
   "execution_count": 5,
   "id": "186b8a7d-a807-48f4-8a9b-1a5ac90df0a0",
   "metadata": {},
   "outputs": [
    {
     "name": "stdout",
     "output_type": "stream",
     "text": [
      "\u001b[?2004h\u001b[?2004l"
     ]
    },
    {
     "ename": "",
     "evalue": "1",
     "output_type": "error",
     "traceback": []
    }
   ],
   "source": [
    "cp -r /data/judong/Bash_RibosomalRnaGeneAlignment/HG002/18S/pagan /data/judong/Bash_RibosomalRnaGeneAlignment/HG001/18S/\n",
    "cp -r /data/judong/Bash_RibosomalRnaGeneAlignment/HG002/28S/pagan /data/judong/Bash_RibosomalRnaGeneAlignment/HG001/28S/"
   ]
  },
  {
   "cell_type": "markdown",
   "id": "137c861e-1d69-4fdf-b61e-5be6e27f78a9",
   "metadata": {},
   "source": [
    "# Need rerun 18s"
   ]
  },
  {
   "cell_type": "code",
   "execution_count": 3,
   "id": "a643dc0e-142a-4bab-900d-a86e57da73db",
   "metadata": {},
   "outputs": [
    {
     "name": "stdout",
     "output_type": "stream",
     "text": [
      "\u001b[?2004h\u001b[?2004l\u001b[?2004l"
     ]
    },
    {
     "ename": "",
     "evalue": "1",
     "output_type": "error",
     "traceback": []
    }
   ],
   "source": [
    "# working Directory for 18S\n",
    "# .../\\<individual>/18S\n",
    "cd /data/judong/Bash_RibosomalRnaGeneAlignment/HG001/18S"
   ]
  },
  {
   "cell_type": "code",
   "execution_count": 4,
   "id": "d8e72c2b-9189-45e7-a7a0-da11dd6d51d0",
   "metadata": {},
   "outputs": [
    {
     "name": "stdout",
     "output_type": "stream",
     "text": [
      "\u001b[?2004h"
     ]
    },
    {
     "ename": "",
     "evalue": "1",
     "output_type": "error",
     "traceback": []
    }
   ],
   "source": [
    "bash /data/judong/Bash_RibosomalRnaGeneAlignment/Codes/geneIsolation.sh /data/judong/Bash_RibosomalRnaGeneAlignment/Reference/18S_ncbi.fas seqrun1 2>/data/judong/Bash_RibosomalRnaGeneAlignment/HG001/log/18SgeneisolationLog.txt "
   ]
  },
  {
   "cell_type": "code",
   "execution_count": 1,
   "id": "21a160f7-5018-4fd5-85cc-00db807e3c39",
   "metadata": {},
   "outputs": [
    {
     "name": "stdout",
     "output_type": "stream",
     "text": [
      "\u001b[?2004h\u001b[?2004l\u001b[?2004l"
     ]
    },
    {
     "ename": "",
     "evalue": "1",
     "output_type": "error",
     "traceback": []
    }
   ],
   "source": [
    "# working Directory for 28S\n",
    "# .../\\<individual>/28S\n",
    "cd /data/judong/Bash_RibosomalRnaGeneAlignment/HG001/28S"
   ]
  },
  {
   "cell_type": "code",
   "execution_count": 2,
   "id": "4d41d190-8088-4143-b6b6-73e46e3e0915",
   "metadata": {},
   "outputs": [
    {
     "name": "stdout",
     "output_type": "stream",
     "text": [
      "\u001b[?2004h"
     ]
    },
    {
     "ename": "",
     "evalue": "1",
     "output_type": "error",
     "traceback": []
    }
   ],
   "source": [
    "bash /data/judong/Bash_RibosomalRnaGeneAlignment/Codes/geneIsolation.sh /data/judong/Bash_RibosomalRnaGeneAlignment/Reference/28S_ncbi.fas seqrun1 2>/data/judong/Bash_RibosomalRnaGeneAlignment/HG001/log/28SgeneisolationLog.txt "
   ]
  },
  {
   "cell_type": "markdown",
   "id": "999a54f8-f87d-487e-85f4-20da17c19806",
   "metadata": {
    "tags": []
   },
   "source": [
    "# Gene alignments against each other\n",
    "### Logpath:RibosomalRnaGeneAlignment/Test_Run/Log\n",
    "• Script align-cut-mafft.sh aligns genes against each other. The alignment is saved to file \\\n",
    "• hg00*/(gene)/genes-seqrun*.fas-aligned-cut.fas"
   ]
  },
  {
   "cell_type": "markdown",
   "id": "351940c9-e127-45ed-81d6-b65c90dc638b",
   "metadata": {},
   "source": [
    "### Arguments:\n",
    "1.Reference: \n",
    "18S path:\"/data/judong/RibosomalRnaGeneAlignment/Reference/18S_ncbi.fas\"\n",
    "28S path:\"/data/judong/RibosomalRnaGeneAlignment/Reference/18S_ncbi.fas\"\n",
    "2.Filename: genes-seqrun*.fas"
   ]
  },
  {
   "cell_type": "code",
   "execution_count": 5,
   "id": "c7ca2d53-d2f3-4568-b321-1bd908e072f3",
   "metadata": {},
   "outputs": [
    {
     "name": "stdout",
     "output_type": "stream",
     "text": [
      "\u001b[?2004h\u001b[?2004l\u001b[?2004l"
     ]
    },
    {
     "ename": "",
     "evalue": "1",
     "output_type": "error",
     "traceback": []
    }
   ],
   "source": [
    "# working Directory for 18S\n",
    "# .../\\<individual>/18S\n",
    "cd /data/judong/Bash_RibosomalRnaGeneAlignment/HG001/18S"
   ]
  },
  {
   "cell_type": "code",
   "execution_count": 6,
   "id": "24b74bef-aa07-45ad-8d7c-601310daa95a",
   "metadata": {},
   "outputs": [
    {
     "name": "stdout",
     "output_type": "stream",
     "text": [
      "2:43644l\n",
      "\u001b[?2004h"
     ]
    },
    {
     "ename": "",
     "evalue": "1",
     "output_type": "error",
     "traceback": []
    }
   ],
   "source": [
    "bash /data/judong/Bash_RibosomalRnaGeneAlignment/Codes/mafftAlignment.sh /data/judong/Bash_RibosomalRnaGeneAlignment/Reference/18S_ncbi.fas genes-seqrun1.fas 2>../log/mafftAlignmentLog18S.txt"
   ]
  },
  {
   "cell_type": "code",
   "execution_count": 7,
   "id": "261a29d4-9e41-4233-a92a-0fb92bc28d6f",
   "metadata": {},
   "outputs": [
    {
     "name": "stdout",
     "output_type": "stream",
     "text": [
      "\u001b[?2004h\u001b[?2004l\u001b[?2004l"
     ]
    },
    {
     "ename": "",
     "evalue": "1",
     "output_type": "error",
     "traceback": []
    }
   ],
   "source": [
    "# working Directory for 28S\n",
    "# .../\\<individual>/28S\n",
    "cd /data/judong/Bash_RibosomalRnaGeneAlignment/HG001/28S"
   ]
  },
  {
   "cell_type": "code",
   "execution_count": 8,
   "id": "996234af-a846-48a7-8f48-82353d34da08",
   "metadata": {},
   "outputs": [
    {
     "name": "stdout",
     "output_type": "stream",
     "text": [
      "3:14709l\n",
      "\u001b[?2004h"
     ]
    },
    {
     "ename": "",
     "evalue": "1",
     "output_type": "error",
     "traceback": []
    }
   ],
   "source": [
    "bash /data/judong/Bash_RibosomalRnaGeneAlignment/Codes/mafftAlignment.sh /data/judong/Bash_RibosomalRnaGeneAlignment/Reference/28S_ncbi.fas genes-seqrun1.fas 2>../log/mafftAlignmentLog28S.txt"
   ]
  },
  {
   "cell_type": "markdown",
   "id": "afc2c6fc-d7f2-4aff-af65-2122e91c6e7a",
   "metadata": {},
   "source": [
    "# Product Folder\n",
    "#### Path: RibosomalRnaGeneAlignment/AlignmentResults\n",
    "The final alignment product: gene-seqrun*.fas-aligned-cut.fas has been manually copied to product path with addition of indvidualname and gene name"
   ]
  },
  {
   "cell_type": "markdown",
   "id": "76511d59-aa04-4964-ade2-7bd99f2f1a40",
   "metadata": {
    "tags": []
   },
   "source": [
    "# Check the Products"
   ]
  },
  {
   "cell_type": "markdown",
   "id": "def1d3d5-0cda-46a9-a3c1-7d21833e4952",
   "metadata": {},
   "source": []
  },
  {
   "cell_type": "raw",
   "id": "c6133e25-8215-4d2c-88e2-93f99ca533da",
   "metadata": {},
   "source": [
    "## The following command should be carried out in terminal\n",
    "1. 18Spath1: /data/judong/RibosomalRnaGeneAlignment/HG001/18S\n",
    "2. 28Spath2: /data/judong/RibosomalRnaGeneAlignment/HG001/28S\n",
    "\n",
    "cd /data/judong/RibosomalRnaGeneAlignment/HG001/18S\n",
    "seq_view genes-seqrun1.fas-aligned-cut.fas"
   ]
  },
  {
   "cell_type": "raw",
   "id": "89a3f912-939d-45d6-a9e3-d940920fde74",
   "metadata": {},
   "source": [
    "or\n",
    "### in terminal\n",
    "\n",
    "cd /data/judong/RibosomalRnaGeneAlignment/AlignmentResults\n",
    "seq_view HG001-28Sgenes-seqrun1.fas-aligned-cut"
   ]
  },
  {
   "cell_type": "code",
   "execution_count": null,
   "id": "0ba66849-7f28-489b-a4b5-a159a5fc25a2",
   "metadata": {},
   "outputs": [],
   "source": []
  },
  {
   "cell_type": "code",
   "execution_count": null,
   "id": "a27c9881-68a4-413d-b023-a4b8d532402b",
   "metadata": {},
   "outputs": [],
   "source": []
  }
 ],
 "metadata": {
  "kernelspec": {
   "display_name": "Bash",
   "language": "bash",
   "name": "bash"
  },
  "language_info": {
   "codemirror_mode": "shell",
   "file_extension": ".sh",
   "mimetype": "text/x-sh",
   "name": "bash"
  }
 },
 "nbformat": 4,
 "nbformat_minor": 5
}
