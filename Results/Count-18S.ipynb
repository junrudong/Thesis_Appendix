{
 "cells": [
  {
   "cell_type": "code",
   "execution_count": 1,
   "id": "b44f5bad-8933-44eb-92e9-2d9e8dfb635b",
   "metadata": {},
   "outputs": [],
   "source": [
    "from Bio import SeqIO\n",
    "import numpy as np\n",
    "from sklearn.metrics import pairwise_distances\n",
    "from Bio.Seq import Seq\n",
    "from Bio.SeqRecord import SeqRecord\n",
    "import pandas as pd\n",
    "pd.options.mode.chained_assignment = None\n",
    "import igraph as ig\n",
    "import matplotlib.pyplot as plt\n",
    "from collections.abc import Iterable"
   ]
  },
  {
   "cell_type": "code",
   "execution_count": 91,
   "id": "d926c30a-566e-4736-a804-58f07401d06d",
   "metadata": {},
   "outputs": [],
   "source": [
    "        input_file = '/data/judong/Python_rRNA_alingmentMergePipeline/InputUpdatedBash/BashInput/RNA_Genes/HG001_18S_clusters/Combined/HG001_18S_confident_alleles-Copy1.fa'\n",
    "        records = SeqIO.to_dict(SeqIO.parse(input_file, \"fasta\"))\n",
    "        ids = list(SeqIO.to_dict(SeqIO.parse(input_file, \"fasta\")).keys())"
   ]
  },
  {
   "cell_type": "code",
   "execution_count": 92,
   "id": "01659d63-a081-4a98-b5c9-7d77c0ccba94",
   "metadata": {},
   "outputs": [
    {
     "data": {
      "text/plain": [
       "72"
      ]
     },
     "execution_count": 92,
     "metadata": {},
     "output_type": "execute_result"
    }
   ],
   "source": [
    "len(ids)"
   ]
  },
  {
   "cell_type": "code",
   "execution_count": 93,
   "id": "eef5be86-971c-47be-a2fa-ff2ea7547802",
   "metadata": {},
   "outputs": [],
   "source": [
    "        ids = list(\n",
    "                    ids[i]\n",
    "            for i in range(0,len(ids))\n",
    "        )\n",
    "        array =[\n",
    "            y\n",
    "            for i in range(0,len(ids))\n",
    "                    for y in records[ids[i]].seq\n",
    "                    \n",
    "]\n",
    "        m = np.array(array)\n",
    "        M = np.reshape(m, (-1, len(records[ids[1]].seq)))\n",
    "        M_rows, M_cols = M.shape "
   ]
  },
  {
   "cell_type": "code",
   "execution_count": 94,
   "id": "778dd48c-03c0-4c2b-bcf9-c92d7643f230",
   "metadata": {},
   "outputs": [
    {
     "data": {
      "text/plain": [
       "(72, 1943)"
      ]
     },
     "execution_count": 94,
     "metadata": {},
     "output_type": "execute_result"
    }
   ],
   "source": [
    "M.shape"
   ]
  },
  {
   "cell_type": "code",
   "execution_count": 95,
   "id": "f43462e6-d91e-4d26-825a-2f266e45362e",
   "metadata": {},
   "outputs": [],
   "source": [
    "a = [\n",
    "        j\n",
    "    for j in range(0,M_cols)\n",
    "        if len(np.unique(M[:,j])) !=1\n",
    "]"
   ]
  },
  {
   "cell_type": "code",
   "execution_count": 96,
   "id": "c1aba0a0-d067-499d-9540-8f0072616bc4",
   "metadata": {},
   "outputs": [
    {
     "name": "stdout",
     "output_type": "stream",
     "text": [
      "72\n"
     ]
    }
   ],
   "source": [
    "n = 0\n",
    "for j in range(0,M_cols):\n",
    "    if len(np.unique(M[:,j])) !=1:\n",
    "        n+=1\n",
    "print(n)"
   ]
  },
  {
   "cell_type": "code",
   "execution_count": 97,
   "id": "e5c452a4-deeb-424a-a81a-cf1dc6221248",
   "metadata": {},
   "outputs": [
    {
     "name": "stdout",
     "output_type": "stream",
     "text": [
      "0.1\n"
     ]
    }
   ],
   "source": [
    "n = 0\n",
    "for j in range(180,310):\n",
    "    if len(np.unique(M[:,j])) !=1:\n",
    "        n+=1\n",
    "print(n/130)"
   ]
  },
  {
   "cell_type": "code",
   "execution_count": 98,
   "id": "a491a789-2fc5-4354-a36a-1a3ea43d30d3",
   "metadata": {},
   "outputs": [
    {
     "name": "stdout",
     "output_type": "stream",
     "text": [
      "0.08181818181818182\n"
     ]
    }
   ],
   "source": [
    "n = 0\n",
    "for j in range(690,800):\n",
    "    if len(np.unique(M[:,j])) !=1:\n",
    "        n+=1\n",
    "print(n/110)"
   ]
  },
  {
   "cell_type": "code",
   "execution_count": 99,
   "id": "61fbab9e-9e05-4fd4-81b0-c6b98e16bfe0",
   "metadata": {},
   "outputs": [
    {
     "name": "stdout",
     "output_type": "stream",
     "text": [
      "0.029359953024075163\n"
     ]
    }
   ],
   "source": [
    "n = 0\n",
    "for j in range(0,180):\n",
    "    if len(np.unique(M[:,j])) !=1:\n",
    "        n+=1\n",
    "for j in range(311,690):\n",
    "    if len(np.unique(M[:,j])) !=1:\n",
    "        n+=1\n",
    "for j in range(801,M_cols):\n",
    "    if len(np.unique(M[:,j])) !=1:\n",
    "        n+=1\n",
    "        \n",
    "print(n/(M_cols-110-130))"
   ]
  },
  {
   "cell_type": "code",
   "execution_count": null,
   "id": "2a44bf2d-a3c7-4fd9-9c22-26f1924f7a3c",
   "metadata": {},
   "outputs": [],
   "source": []
  },
  {
   "cell_type": "code",
   "execution_count": null,
   "id": "19d13a2b-e6d2-48c7-89ee-3e7ab8b21dd6",
   "metadata": {},
   "outputs": [],
   "source": []
  },
  {
   "cell_type": "code",
   "execution_count": null,
   "id": "4472bc00-ad46-4fe4-9f6c-a61afa2ca20a",
   "metadata": {},
   "outputs": [],
   "source": [
    "Python_rRNA_alingmentMergePipeline/InputUpdatedBash/BashInput/RNA_Genes/HG_18S_results/Chinese/HG005_18S_confident_alleles.fa"
   ]
  }
 ],
 "metadata": {
  "kernelspec": {
   "display_name": "Python 3",
   "language": "python",
   "name": "python3"
  },
  "language_info": {
   "codemirror_mode": {
    "name": "ipython",
    "version": 3
   },
   "file_extension": ".py",
   "mimetype": "text/x-python",
   "name": "python",
   "nbconvert_exporter": "python",
   "pygments_lexer": "ipython3",
   "version": "3.7.11"
  }
 },
 "nbformat": 4,
 "nbformat_minor": 5
}
