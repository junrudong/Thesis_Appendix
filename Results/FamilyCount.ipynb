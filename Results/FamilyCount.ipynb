{
 "cells": [
  {
   "cell_type": "code",
   "execution_count": 1,
   "id": "b44f5bad-8933-44eb-92e9-2d9e8dfb635b",
   "metadata": {},
   "outputs": [],
   "source": [
    "from Bio import SeqIO\n",
    "import numpy as np\n",
    "from sklearn.metrics import pairwise_distances\n",
    "from Bio.Seq import Seq\n",
    "from Bio.SeqRecord import SeqRecord\n",
    "import pandas as pd\n",
    "pd.options.mode.chained_assignment = None\n",
    "import igraph as ig\n",
    "import matplotlib.pyplot as plt\n",
    "from collections.abc import Iterable"
   ]
  },
  {
   "cell_type": "code",
   "execution_count": null,
   "id": "d926c30a-566e-4736-a804-58f07401d06d",
   "metadata": {},
   "outputs": [],
   "source": [
    "        input_file = '/data/judong/Python_rRNA_alingmentMergePipeline/InputUpdatedBash/BashInput/RNA_Genes/HG_18S_results/Chinese/HG005_18S_confident_alleles.fa'\n",
    "        records = SeqIO.to_dict(SeqIO.parse(input_file, \"fasta\"))\n",
    "        ids = list(SeqIO.to_dict(SeqIO.parse(input_file, \"fasta\")).keys())"
   ]
  },
  {
   "cell_type": "code",
   "execution_count": null,
   "id": "33ab6aee-f11c-4ccb-b70e-c5ac739b497b",
   "metadata": {},
   "outputs": [],
   "source": [
    "        ids = list(\n",
    "                    ids[i]\n",
    "            for i in range(0,len(ids))\n",
    "        )\n",
    "        array =[\n",
    "            y\n",
    "            for i in range(0,len(ids))\n",
    "                    for y in records[ids[i]].seq\n",
    "                    \n",
    "]\n",
    "        m = np.array(array)\n",
    "        M = np.reshape(m, (-1, len(records[ids[1]].seq)))\n",
    "        M_rows, M_cols = M.shape "
   ]
  },
  {
   "cell_type": "code",
   "execution_count": null,
   "id": "fc7a1691-735a-4b31-beed-083959278e29",
   "metadata": {},
   "outputs": [],
   "source": [
    "SonList = [\n",
    "        records.get(ids[i]).seq\n",
    "    for i in range(0,len(ids))\n",
    "        if records.get(ids[i]).name[0:3] == \"Son\"\n",
    "]\n",
    "PaList = [\n",
    "        records.get(ids[i]).seq\n",
    "    for i in range(0,len(ids))\n",
    "        if records.get(ids[i]).name[0:2] == \"Pa\"\n",
    "]\n",
    "MaList = [\n",
    "        records.get(ids[i]).seq\n",
    "    for i in range(0,len(ids))\n",
    "        if records.get(ids[i]).name[0:2] == \"Ma\"\n",
    "]"
   ]
  },
  {
   "cell_type": "code",
   "execution_count": null,
   "id": "d4d17358-b303-4915-8aa2-0b3c8e223a67",
   "metadata": {},
   "outputs": [],
   "source": [
    "SonArray = np.array([\n",
    "        i\n",
    "    for i in SonList\n",
    "])\n",
    "PaArray = np.array([\n",
    "        i\n",
    "    for i in PaList\n",
    "])\n",
    "MaArray = np.array([\n",
    "        i\n",
    "    for i in MaList\n",
    "])\n",
    "    "
   ]
  },
  {
   "cell_type": "code",
   "execution_count": null,
   "id": "4b1b4094-6723-4252-aaa2-2e777c2ec4b2",
   "metadata": {},
   "outputs": [],
   "source": [
    "VarPa =  np.array([\n",
    "        j\n",
    "    for j in range(0,M_cols)\n",
    "        if len(np.unique(PaArray[:,j])) !=1\n",
    "])\n",
    "VarMa =  np.array([\n",
    "        j\n",
    "    for j in range(0,M_cols)\n",
    "        if len(np.unique(MaArray[:,j])) !=1\n",
    "])\n",
    "VarSon =  np.array([\n",
    "        j\n",
    "    for j in range(0,M_cols)\n",
    "        if len(np.unique(SonArray[:,j])) !=1\n",
    "])"
   ]
  },
  {
   "cell_type": "code",
   "execution_count": null,
   "id": "b747ff97-faba-4ec0-a818-43ed2dee314b",
   "metadata": {},
   "outputs": [],
   "source": []
  },
  {
   "cell_type": "code",
   "execution_count": null,
   "id": "87c078a9-ee9b-47a5-a2e6-ac7533b0a923",
   "metadata": {},
   "outputs": [],
   "source": [
    "len(SonArray),len(PaArray),len(MaArray)"
   ]
  },
  {
   "cell_type": "code",
   "execution_count": null,
   "id": "2120d5a8-443d-486b-ae34-280fa5b3dfc9",
   "metadata": {},
   "outputs": [],
   "source": [
    "54+51+93"
   ]
  },
  {
   "cell_type": "code",
   "execution_count": 113,
   "id": "778dd48c-03c0-4c2b-bcf9-c92d7643f230",
   "metadata": {},
   "outputs": [
    {
     "data": {
      "text/plain": [
       "(240, 5540)"
      ]
     },
     "execution_count": 113,
     "metadata": {},
     "output_type": "execute_result"
    }
   ],
   "source": [
    "M.shape"
   ]
  },
  {
   "cell_type": "code",
   "execution_count": 114,
   "id": "4f9daafe-8c53-49eb-9770-ea955cc4fe1a",
   "metadata": {},
   "outputs": [
    {
     "data": {
      "text/plain": [
       "(345, 709, 389)"
      ]
     },
     "execution_count": 114,
     "metadata": {},
     "output_type": "execute_result"
    }
   ],
   "source": [
    "len(VarSon),len(VarPa),len(VarMa)"
   ]
  },
  {
   "cell_type": "code",
   "execution_count": 115,
   "id": "24f6ba88-2006-4f6d-94a6-a8165d8b3aeb",
   "metadata": {},
   "outputs": [
    {
     "data": {
      "text/plain": [
       "186"
      ]
     },
     "execution_count": 115,
     "metadata": {},
     "output_type": "execute_result"
    }
   ],
   "source": [
    "VarPaMa = [\n",
    "        i\n",
    "    for i in VarMa\n",
    "        if i in VarPa\n",
    "]\n",
    "len(VarPaMa)"
   ]
  },
  {
   "cell_type": "code",
   "execution_count": 116,
   "id": "0e954af3-d0f5-4b18-a09d-d82d3fc1bfdb",
   "metadata": {},
   "outputs": [
    {
     "data": {
      "text/plain": [
       "142"
      ]
     },
     "execution_count": 116,
     "metadata": {},
     "output_type": "execute_result"
    }
   ],
   "source": [
    "VarSonMa = [\n",
    "        i\n",
    "    for i in VarSon\n",
    "        if i in VarMa\n",
    "]\n",
    "len(VarSonMa)"
   ]
  },
  {
   "cell_type": "code",
   "execution_count": 117,
   "id": "e2dfd830-7f41-4766-9b19-31f9e2076f8b",
   "metadata": {},
   "outputs": [
    {
     "data": {
      "text/plain": [
       "124"
      ]
     },
     "execution_count": 117,
     "metadata": {},
     "output_type": "execute_result"
    }
   ],
   "source": [
    "VarSonPa = [\n",
    "        i\n",
    "    for i in VarSon\n",
    "        if i in VarPa\n",
    "]\n",
    "len(VarSonPa)"
   ]
  },
  {
   "cell_type": "code",
   "execution_count": 118,
   "id": "f1da4e85-040c-44c6-85b9-8f0427f133cd",
   "metadata": {},
   "outputs": [
    {
     "data": {
      "text/plain": [
       "98"
      ]
     },
     "execution_count": 118,
     "metadata": {},
     "output_type": "execute_result"
    }
   ],
   "source": [
    "VarPaMaSon = [\n",
    "        i\n",
    "    for i in VarMa\n",
    "        if i in VarPa\n",
    "            if i in VarSon\n",
    "]\n",
    "len(VarPaMaSon)"
   ]
  },
  {
   "cell_type": "code",
   "execution_count": null,
   "id": "badd7f70-6dc3-4a01-92c2-e0749b35f038",
   "metadata": {},
   "outputs": [],
   "source": []
  }
 ],
 "metadata": {
  "kernelspec": {
   "display_name": "Python 3",
   "language": "python",
   "name": "python3"
  },
  "language_info": {
   "codemirror_mode": {
    "name": "ipython",
    "version": 3
   },
   "file_extension": ".py",
   "mimetype": "text/x-python",
   "name": "python",
   "nbconvert_exporter": "python",
   "pygments_lexer": "ipython3",
   "version": "3.7.11"
  }
 },
 "nbformat": 4,
 "nbformat_minor": 5
}
